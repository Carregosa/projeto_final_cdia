{
 "cells": [
  {
   "cell_type": "markdown",
   "id": "9e127df6",
   "metadata": {},
   "source": [
    "# Projeto Final - Bootcamp CDIA\n",
    "Aluno: Paulo Roberto Carregosa Luiz"
   ]
  },
  {
   "cell_type": "code",
   "execution_count": null,
   "id": "67acdb9a",
   "metadata": {},
   "outputs": [],
   "source": [
    "import pandas as pd\n",
    "import matplotlib.pyplot as plt\n",
    "import seaborn as sns\n",
    "from sklearn.model_selection import train_test_split, cross_val_score\n",
    "from sklearn.ensemble import RandomForestClassifier\n",
    "from sklearn.metrics import classification_report, confusion_matrix, f1_score\n",
    "from sklearn.preprocessing import StandardScaler\n",
    "import numpy as np\n"
   ]
  },
  {
   "cell_type": "code",
   "execution_count": null,
   "id": "b9747fd2",
   "metadata": {},
   "outputs": [],
   "source": [
    "# Carregar os dados\n",
    "df_train = pd.read_excel('bootcamp_train.xlsx')\n",
    "df_test = pd.read_excel('bootcamp_test.xlsx')"
   ]
  },
  {
   "cell_type": "code",
   "execution_count": null,
   "id": "6a3858a3",
   "metadata": {},
   "outputs": [],
   "source": [
    "# Distribuição da área\n",
    "sns.histplot(df_train['area_pixels'], bins=50, kde=True)\n",
    "plt.title(\"Distribuição da Área dos Defeitos\")\n",
    "plt.xlabel(\"Área (pixels)\")\n",
    "plt.ylabel(\"Frequência\")\n",
    "plt.show()"
   ]
  },
  {
   "cell_type": "code",
   "execution_count": null,
   "id": "ce8bbbef",
   "metadata": {},
   "outputs": [],
   "source": [
    "# Matriz de correlação\n",
    "corr = df_train.select_dtypes(include='number').corr()\n",
    "plt.figure(figsize=(12, 10))\n",
    "sns.heatmap(corr, cmap=\"coolwarm\", center=0)\n",
    "plt.title(\"Matriz de Correlação\")\n",
    "plt.show()"
   ]
  },
  {
   "cell_type": "code",
   "execution_count": null,
   "id": "42960bc9",
   "metadata": {},
   "outputs": [],
   "source": [
    "# Selecionar features e target\n",
    "target_cols = ['falha_1', 'falha_2', 'falha_3', 'falha_4', 'falha_5', 'falha_6', 'falha_outros']\n",
    "X = df_train.drop(columns=['id'] + target_cols)\n",
    "y = df_train[target_cols]\n",
    "\n",
    "# Corrigir colunas categóricas\n",
    "X = X.replace({'nÃ£o': 0, 'NÃ£o': 0, 'Sim': 1, 'True': 1, 'False': 0})\n",
    "\n",
    "# Preencher valores faltantes\n",
    "X = X.fillna(0)\n",
    "\n",
    "# Escalonar os dados\n",
    "scaler = StandardScaler()\n",
    "X_scaled = scaler.fit_transform(X)"
   ]
  },
  {
   "cell_type": "code",
   "execution_count": null,
   "id": "bb8a52bb",
   "metadata": {},
   "outputs": [],
   "source": [
    "# Treinar modelo Random Forest\n",
    "X_train, X_val, y_train, y_val = train_test_split(X_scaled, y, test_size=0.2, random_state=42)\n",
    "model = RandomForestClassifier(n_estimators=100, random_state=42)\n",
    "model.fit(X_train, y_train)\n",
    "\n",
    "# Avaliação\n",
    "y_pred = model.predict(X_val)\n",
    "print(\"F1 Score (macro):\", f1_score(y_val, y_pred, average='macro'))\n",
    "print(classification_report(y_val, y_pred))"
   ]
  },
  {
   "cell_type": "code",
   "execution_count": null,
   "id": "779843e1",
   "metadata": {},
   "outputs": [],
   "source": [
    "# Aplicar modelo ao conjunto de teste\n",
    "X_test = df_test.drop(columns=['id'])\n",
    "X_test = X_test.replace({'nÃ£o': 0, 'NÃ£o': 0, 'Sim': 1, 'True': 1, 'False': 0})\n",
    "X_test = X_test.fillna(0)\n",
    "X_test_scaled = scaler.transform(X_test)\n",
    "\n",
    "# Gerar predições\n",
    "y_test_pred = model.predict(X_test_scaled)\n",
    "y_test_pred_df = pd.DataFrame(y_test_pred, columns=target_cols)\n",
    "y_test_pred_df.insert(0, 'id', df_test['id'])\n",
    "y_test_pred_df.head()"
   ]
  },
  {
   "cell_type": "code",
   "execution_count": null,
   "id": "5a759b8f",
   "metadata": {},
   "outputs": [],
   "source": [
    "# Salvar modelo e scaler para uso no dashboard\n",
    "import joblib\n",
    "\n",
    "joblib.dump(model, 'modelo_random_forest.pkl')\n",
    "joblib.dump(scaler, 'scaler.pkl')"
   ]
  }
 ],
 "metadata": {},
 "nbformat": 4,
 "nbformat_minor": 5
}
